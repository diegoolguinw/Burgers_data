{
  "cells": [
    {
      "cell_type": "code",
      "execution_count": null,
      "metadata": {
        "id": "Vor87_MxAGv4"
      },
      "outputs": [],
      "source": [
        "import numpy as np\n",
        "import matplotlib.pyplot as plt"
      ]
    },
    {
      "cell_type": "code",
      "execution_count": null,
      "metadata": {
        "id": "A4z4A886_40h"
      },
      "outputs": [],
      "source": [
        "# Code due to Hugo Carrillo at Inria-Chile 2022\n",
        "def spectral_burgers(D, T_max=1, file_name='u_burgers'):\n",
        "    N = 256\n",
        "    NT = 100\n",
        "    h = 2 * np.pi / N\n",
        "    XX = np.arange(N) * h\n",
        "    XXshift = np.roll(XX, N // 2)\n",
        "    XXshift2 = XXshift[0::2]\n",
        "    X = (1 / np.pi) * np.angle(np.exp(1j * XXshift2))\n",
        "    X[0] = -1\n",
        "\n",
        "    X = np.delete(X, N // 4)\n",
        "\n",
        "    xx = np.append(X, 1)\n",
        "\n",
        "    dt = T_max * 2e-6\n",
        "\n",
        "    # Create the wave number vector k\n",
        "    k_positive = np.arange(0, N // 2)\n",
        "    k_negative = np.arange(-N // 2 + 1, 0)\n",
        "    k = np.concatenate((k_positive, [0], k_negative)) * np.pi\n",
        "    k1 = 1j * k\n",
        "    k2 = k1 ** 2\n",
        "\n",
        "    uinit = -np.sin(XX)\n",
        "    u0 = uinit.copy()\n",
        "\n",
        "    T = np.linspace(0, T_max, NT)\n",
        "    uburgers = np.zeros((N // 2, NT))\n",
        "\n",
        "    cont = 0\n",
        "    cont_t = -1\n",
        "    TT = np.arange(0, T_max, dt)\n",
        "    for t in TT:\n",
        "        cont_t += 1\n",
        "        u1hat = np.fft.fft(u0.copy()) - dt * k1 * np.fft.fft(0.5 * u0.copy() ** 2) + dt * D * k2 * np.fft.fft(u0.copy())\n",
        "        u0 = np.fft.ifft(u1hat.copy()).real\n",
        "\n",
        "        if np.abs(TT[cont_t] - T[cont]) < 1e-2:\n",
        "            uburgers[:, cont] = np.roll(u0.copy()[1::2], N // 4)\n",
        "            cont += 1\n",
        "            if cont > 99:\n",
        "                break\n",
        "\n",
        "    uburgers = np.delete(uburgers, N // 4, axis=0)\n",
        "    u_burgers = np.vstack((uburgers, uburgers[0, :]))\n",
        "    x = xx\n",
        "    t = T\n",
        "\n",
        "    return (x, t, u_burgers)"
      ]
    },
    {
      "cell_type": "code",
      "execution_count": null,
      "metadata": {
        "id": "blTar41HAAG5",
        "colab": {
          "base_uri": "https://localhost:8080/"
        },
        "outputId": "f29c0b5b-3e21-4b0d-d7d1-269edd53d319"
      },
      "outputs": [
        {
          "output_type": "stream",
          "name": "stdout",
          "text": [
            "Creating solution for D=0.0025\n",
            "Solution created for D=0.0025\n",
            "Creating solution for D=0.005\n",
            "Solution created for D=0.005\n",
            "Creating solution for D=0.0075\n",
            "Solution created for D=0.0075\n",
            "Creating solution for D=0.01\n",
            "Solution created for D=0.01\n",
            "Creating solution for D=0.025\n",
            "Solution created for D=0.025\n",
            "Creating solution for D=0.05\n",
            "Solution created for D=0.05\n",
            "Creating solution for D=0.075\n",
            "Solution created for D=0.075\n",
            "Creating solution for D=0.1\n",
            "Solution created for D=0.1\n"
          ]
        }
      ],
      "source": [
        "D_test = np.array([0.0025, 0.005, 0.0075, 0.01, 0.025, 0.05, 0.075, 0.1])\n",
        "\n",
        "dic = {}\n",
        "\n",
        "print(\"Creating solution for D={}\".format(D_test[0]))\n",
        "x, t, u_burgers = spectral_burgers(D_test[0]/np.pi)\n",
        "dic[\"D_\"+str(D_test[0])] = u_burgers\n",
        "print(\"Solution created for D={}\".format(D_test[0]))\n",
        "\n",
        "for D in D_test[1:]:\n",
        "    print(\"Creating solution for D={}\".format(D))\n",
        "    _, _, u_burgers = spectral_burgers(D/np.pi)\n",
        "    dic[\"D_\"+str(D)] = u_burgers\n",
        "    print(\"Solution created for D={}\".format(D))"
      ]
    },
    {
      "cell_type": "code",
      "execution_count": null,
      "metadata": {
        "id": "DvUtc0Asncwd"
      },
      "outputs": [],
      "source": [
        "np.savez(\"burgers_data.npz\", x=x, t=t, **dic)"
      ]
    }
  ],
  "metadata": {
    "colab": {
      "provenance": []
    },
    "kernelspec": {
      "display_name": "Python 3",
      "name": "python3"
    },
    "language_info": {
      "name": "python"
    }
  },
  "nbformat": 4,
  "nbformat_minor": 0
}